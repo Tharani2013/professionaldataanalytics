{
    "cells": [
        {
            "metadata": {},
            "cell_type": "code",
            "source": "import ibm_db",
            "execution_count": 1,
            "outputs": []
        },
        {
            "metadata": {},
            "cell_type": "code",
            "source": "dsn_hostname = \"dashdb-txn-sbox-yp-dal09-04.services.dal.bluemix.net\" # e.g.: \"dashdb-txn-sbox-yp-dal09-04.services.dal.bluemix.net\"\ndsn_uid = \"qqm47080\"      # e.g. \"abc12345\"\ndsn_pwd =  \"p9sgk4517fgbr+k1\"     # e.g. \"7dBZ3wWt9XN6$o0J\"\ndsn_driver = \"DATABASE=BLUDB;HOSTNAME=dashdb-txn-sbox-yp-dal09-10.services.dal.bluemix.net;PORT=50000;PROTOCOL=TCPIP;UID=qqm47080;PWD=p9sgk4517fgbr+k1;\"\ndsn_database = \"BLUDB\"            # e.g. \"BLUDB\"\ndsn_port = \"50000\"                # e.g. \"50000\" \ndsn_protocol = \"TCPIP\"            # i.e. \"TCPIP\"",
            "execution_count": 2,
            "outputs": []
        },
        {
            "metadata": {
                "scrolled": true
            },
            "cell_type": "code",
            "source": "dsn = (\n    \"DRIVER={0};\"\n    \"DATABASE={1};\"\n    \"HOSTNAME={2};\"\n    \"PORT={3};\"\n    \"PROTOCOL={4};\"\n    \"UID={5};\"\n    \"PWD={6};\").format(dsn_driver, dsn_database, dsn_hostname, dsn_port, dsn_protocol, dsn_uid, dsn_pwd)\n\n#print the connection string to check correct values are specified\n    \ntry:\n    conn = ibm_db.connect(dsn, \"\", \"\")\n    print (\"Connected to database: \", dsn_database, \"as user: \", dsn_uid, \"on host: \", dsn_hostname)\n\nexcept:\n    print (\"Unable to connect: \", ibm_db.conn_errormsg() )\n",
            "execution_count": 3,
            "outputs": [
                {
                    "output_type": "stream",
                    "text": "Connected to database:  BLUDB as user:  qqm47080 on host:  dashdb-txn-sbox-yp-dal09-04.services.dal.bluemix.net\n",
                    "name": "stdout"
                }
            ]
        },
        {
            "metadata": {},
            "cell_type": "code",
            "source": "#Retrieve Metadata for the Database Server\nserver = ibm_db.server_info(conn)\n\nprint (\"DBMS_NAME: \", server.DBMS_NAME)\nprint (\"DBMS_VER:  \", server.DBMS_VER)\nprint (\"DB_NAME:   \", server.DB_NAME)",
            "execution_count": 4,
            "outputs": [
                {
                    "output_type": "stream",
                    "text": "DBMS_NAME:  DB2/LINUXX8664\nDBMS_VER:   11.01.0404\nDB_NAME:    BLUDB\n",
                    "name": "stdout"
                }
            ]
        },
        {
            "metadata": {},
            "cell_type": "code",
            "source": "Dropquery = ibm_db.exec_immediate(conn,\"DROP TABLE Instructor\")",
            "execution_count": 6,
            "outputs": []
        },
        {
            "metadata": {},
            "cell_type": "code",
            "source": "Createquery = \"CREATE TABLE Instructor(ID INTEGER PRIMARY KEY NOT NULL,Fname VARCHAR(20),Lname VARCHAR(20),City VARCHAR(20),Ccode char(3))\"\nCreatestate = ibm_db.exec_immediate(conn,Createquery)",
            "execution_count": 7,
            "outputs": []
        },
        {
            "metadata": {},
            "cell_type": "code",
            "source": "Createvalues=\"INSERT INTO INSTRUCTOR VALUES(1,'raul','Gibson','Troy','ALB')\"\nInsertstate=ibm_db.exec_immediate(conn,Createvalues)",
            "execution_count": 7,
            "outputs": []
        },
        {
            "metadata": {},
            "cell_type": "code",
            "source": "Createvalues1=\"INSERT INTO INSTRUCTOR VALUES(2,'Gabe','Cariolla','Cliftonpark','SS')\"\nInsertstate1=ibm_db.exec_immediate(conn,Createvalues1)",
            "execution_count": 8,
            "outputs": []
        },
        {
            "metadata": {},
            "cell_type": "code",
            "source": "Createvalues2=\"INSERT INTO INSTRUCTOR VALUES(3,'Kyle','Denis','Rensellear','NY')\"\nInsertstate2=ibm_db.exec_immediate(conn,Createvalues2)",
            "execution_count": 9,
            "outputs": []
        },
        {
            "metadata": {},
            "cell_type": "code",
            "source": "selectquery=\"SELECT * FROM INSTRUCTOR\"\nselectstate=ibm_db.exec_immediate(conn,selectquery)\nibm_db.fetch_both(selectstate)",
            "execution_count": 18,
            "outputs": [
                {
                    "output_type": "execute_result",
                    "execution_count": 18,
                    "data": {
                        "text/plain": "{'ID': 1,\n 0: 1,\n 'FNAME': 'raul',\n 1: 'raul',\n 'LNAME': 'Gibson',\n 2: 'Gibson',\n 'CITY': 'Troy',\n 3: 'Troy',\n 'CCODE': 'ALB',\n 4: 'ALB'}"
                    },
                    "metadata": {}
                }
            ]
        },
        {
            "metadata": {},
            "cell_type": "code",
            "source": "while ibm_db.fetch_row(selectstate) != False:\n   print (\" ID:\",  ibm_db.result(selectstate, 0), \" Fname:\",  ibm_db.result(selectstate, \"FNAME\"))",
            "execution_count": 19,
            "outputs": [
                {
                    "output_type": "stream",
                    "text": " ID: 2  Fname: Gabe\n ID: 3  Fname: Kyle\n",
                    "name": "stdout"
                }
            ]
        },
        {
            "metadata": {},
            "cell_type": "code",
            "source": "updatequery=\"UPDATE Instructor SET City='Moosetown' WHERE Fname='Raul' \"\nupdatestate=ibm_db.exec_immediate(conn,updatequery)",
            "execution_count": 13,
            "outputs": []
        },
        {
            "metadata": {},
            "cell_type": "code",
            "source": "import ibm_db_dbi\nimport pandas",
            "execution_count": 8,
            "outputs": []
        },
        {
            "metadata": {},
            "cell_type": "code",
            "source": "pconn=ibm_db_dbi.Connection(conn)",
            "execution_count": 9,
            "outputs": []
        },
        {
            "metadata": {
                "scrolled": true
            },
            "cell_type": "code",
            "source": "df=pandas.read_sql('SELECT * FROM Instructor',pconn)\ndf",
            "execution_count": 23,
            "outputs": [
                {
                    "output_type": "execute_result",
                    "execution_count": 23,
                    "data": {
                        "text/plain": "   ID FNAME     LNAME         CITY CCODE\n0   1  raul    Gibson         Troy   ALB\n1   2  Gabe  Cariolla  Cliftonpark   SS \n2   3  Kyle     Denis   Rensellear   NY ",
                        "text/html": "<div>\n<style scoped>\n    .dataframe tbody tr th:only-of-type {\n        vertical-align: middle;\n    }\n\n    .dataframe tbody tr th {\n        vertical-align: top;\n    }\n\n    .dataframe thead th {\n        text-align: right;\n    }\n</style>\n<table border=\"1\" class=\"dataframe\">\n  <thead>\n    <tr style=\"text-align: right;\">\n      <th></th>\n      <th>ID</th>\n      <th>FNAME</th>\n      <th>LNAME</th>\n      <th>CITY</th>\n      <th>CCODE</th>\n    </tr>\n  </thead>\n  <tbody>\n    <tr>\n      <th>0</th>\n      <td>1</td>\n      <td>raul</td>\n      <td>Gibson</td>\n      <td>Troy</td>\n      <td>ALB</td>\n    </tr>\n    <tr>\n      <th>1</th>\n      <td>2</td>\n      <td>Gabe</td>\n      <td>Cariolla</td>\n      <td>Cliftonpark</td>\n      <td>SS</td>\n    </tr>\n    <tr>\n      <th>2</th>\n      <td>3</td>\n      <td>Kyle</td>\n      <td>Denis</td>\n      <td>Rensellear</td>\n      <td>NY</td>\n    </tr>\n  </tbody>\n</table>\n</div>"
                    },
                    "metadata": {}
                }
            ]
        },
        {
            "metadata": {},
            "cell_type": "code",
            "source": "df.CITY[1]",
            "execution_count": 24,
            "outputs": [
                {
                    "output_type": "execute_result",
                    "execution_count": 24,
                    "data": {
                        "text/plain": "'Cliftonpark'"
                    },
                    "metadata": {}
                }
            ]
        },
        {
            "metadata": {},
            "cell_type": "code",
            "source": "df.iloc[0:2,0:4]",
            "execution_count": 26,
            "outputs": [
                {
                    "output_type": "execute_result",
                    "execution_count": 26,
                    "data": {
                        "text/plain": "   ID FNAME     LNAME         CITY\n0   1  raul    Gibson         Troy\n1   2  Gabe  Cariolla  Cliftonpark",
                        "text/html": "<div>\n<style scoped>\n    .dataframe tbody tr th:only-of-type {\n        vertical-align: middle;\n    }\n\n    .dataframe tbody tr th {\n        vertical-align: top;\n    }\n\n    .dataframe thead th {\n        text-align: right;\n    }\n</style>\n<table border=\"1\" class=\"dataframe\">\n  <thead>\n    <tr style=\"text-align: right;\">\n      <th></th>\n      <th>ID</th>\n      <th>FNAME</th>\n      <th>LNAME</th>\n      <th>CITY</th>\n    </tr>\n  </thead>\n  <tbody>\n    <tr>\n      <th>0</th>\n      <td>1</td>\n      <td>raul</td>\n      <td>Gibson</td>\n      <td>Troy</td>\n    </tr>\n    <tr>\n      <th>1</th>\n      <td>2</td>\n      <td>Gabe</td>\n      <td>Cariolla</td>\n      <td>Cliftonpark</td>\n    </tr>\n  </tbody>\n</table>\n</div>"
                    },
                    "metadata": {}
                }
            ]
        },
        {
            "metadata": {},
            "cell_type": "code",
            "source": "df.shape",
            "execution_count": 29,
            "outputs": [
                {
                    "output_type": "execute_result",
                    "execution_count": 29,
                    "data": {
                        "text/plain": "(3, 5)"
                    },
                    "metadata": {}
                }
            ]
        },
        {
            "metadata": {},
            "cell_type": "code",
            "source": "ibm_db.close(conn)",
            "execution_count": 30,
            "outputs": [
                {
                    "output_type": "execute_result",
                    "execution_count": 30,
                    "data": {
                        "text/plain": "True"
                    },
                    "metadata": {}
                }
            ]
        },
        {
            "metadata": {},
            "cell_type": "code",
            "source": "selectquery=\"SELECT * FROM EMPLOYEES\"\nselectst=ibm_db.exec_immediate(conn,selectquery)\nibm_db.fetch_both(selectst)",
            "execution_count": 12,
            "outputs": [
                {
                    "output_type": "execute_result",
                    "execution_count": 12,
                    "data": {
                        "text/plain": "{'EMP_ID': 'E1001    ',\n 0: 'E1001    ',\n 'F_NAME': 'John',\n 1: 'John',\n 'L_NAME': 'Thomas',\n 2: 'Thomas',\n 'SSN': '123456   ',\n 3: '123456   ',\n 'B_DATE': datetime.date(1976, 1, 9),\n 4: datetime.date(1976, 1, 9),\n 'SEX': 'M',\n 5: 'M',\n 'ADDRESS': '5631 Rice, OakPark,IL',\n 6: '5631 Rice, OakPark,IL',\n 'JOB_ID': '100      ',\n 7: '100      ',\n 'SALARY': '100000.00',\n 8: '100000.00',\n 'MANAGER_ID': '30001    ',\n 9: '30001    ',\n 'DEP_ID': '2        ',\n 10: '2        '}"
                    },
                    "metadata": {}
                }
            ]
        },
        {
            "metadata": {},
            "cell_type": "code",
            "source": "import pandas\nimport ibm_db_dbi\ncheckconn=ibm_db_dbi.Connection(conn)\ndf=pandas.read_sql('SELECT * FROM EMPLOYEES',checkconn)\ndf",
            "execution_count": 15,
            "outputs": [
                {
                    "output_type": "execute_result",
                    "execution_count": 15,
                    "data": {
                        "text/plain": "      EMP_ID   F_NAME   L_NAME        SSN      B_DATE SEX  \\\n0  E1001         John   Thomas  123456     1976-01-09   M   \n1  E1002        Alice    James  123457     1972-07-31   F   \n2  E1003        Steve    Wells  123458     1980-08-10   M   \n3  E1004      Santosh    Kumar  123459     1985-07-20   M   \n4  E1005        Ahmed  Hussain  123410     1981-01-04   M   \n5  E1006        Nancy    Allen  123411     1978-02-06   F   \n6  E1007         Mary   Thomas  123412     1975-05-05   F   \n7  E1008      Bharath    Gupta  123413     1985-05-06   M   \n8  E1009       Andrea    Jones  123414     1990-07-09   F   \n9  E1010          Ann    Jacob  123415     1982-03-30   F   \n\n                        ADDRESS     JOB_ID    SALARY MANAGER_ID     DEP_ID  \n0         5631 Rice, OakPark,IL  100        100000.0  30001      2          \n1        980 Berry ln, Elgin,IL  200         80000.0  30002      5          \n2          291 Springs, Gary,IL  300         50000.0  30002      5          \n3      511 Aurora Av, Aurora,IL  400         60000.0  30004      5          \n4       216 Oak Tree, Geneva,IL  500         70000.0  30001      2          \n5        111 Green Pl, Elgin,IL  600         90000.0  30001      2          \n6          100 Rose Pl, Gary,IL  650         65000.0  30003      7          \n7   145 Berry Ln, Naperville,IL  660         65000.0  30003      7          \n8       120 Fall Creek, Gary,IL  234         70000.0  30003      7          \n9  111 Britany Springs,Elgin,IL  220         70000.0  30004      5          ",
                        "text/html": "<div>\n<style scoped>\n    .dataframe tbody tr th:only-of-type {\n        vertical-align: middle;\n    }\n\n    .dataframe tbody tr th {\n        vertical-align: top;\n    }\n\n    .dataframe thead th {\n        text-align: right;\n    }\n</style>\n<table border=\"1\" class=\"dataframe\">\n  <thead>\n    <tr style=\"text-align: right;\">\n      <th></th>\n      <th>EMP_ID</th>\n      <th>F_NAME</th>\n      <th>L_NAME</th>\n      <th>SSN</th>\n      <th>B_DATE</th>\n      <th>SEX</th>\n      <th>ADDRESS</th>\n      <th>JOB_ID</th>\n      <th>SALARY</th>\n      <th>MANAGER_ID</th>\n      <th>DEP_ID</th>\n    </tr>\n  </thead>\n  <tbody>\n    <tr>\n      <th>0</th>\n      <td>E1001</td>\n      <td>John</td>\n      <td>Thomas</td>\n      <td>123456</td>\n      <td>1976-01-09</td>\n      <td>M</td>\n      <td>5631 Rice, OakPark,IL</td>\n      <td>100</td>\n      <td>100000.0</td>\n      <td>30001</td>\n      <td>2</td>\n    </tr>\n    <tr>\n      <th>1</th>\n      <td>E1002</td>\n      <td>Alice</td>\n      <td>James</td>\n      <td>123457</td>\n      <td>1972-07-31</td>\n      <td>F</td>\n      <td>980 Berry ln, Elgin,IL</td>\n      <td>200</td>\n      <td>80000.0</td>\n      <td>30002</td>\n      <td>5</td>\n    </tr>\n    <tr>\n      <th>2</th>\n      <td>E1003</td>\n      <td>Steve</td>\n      <td>Wells</td>\n      <td>123458</td>\n      <td>1980-08-10</td>\n      <td>M</td>\n      <td>291 Springs, Gary,IL</td>\n      <td>300</td>\n      <td>50000.0</td>\n      <td>30002</td>\n      <td>5</td>\n    </tr>\n    <tr>\n      <th>3</th>\n      <td>E1004</td>\n      <td>Santosh</td>\n      <td>Kumar</td>\n      <td>123459</td>\n      <td>1985-07-20</td>\n      <td>M</td>\n      <td>511 Aurora Av, Aurora,IL</td>\n      <td>400</td>\n      <td>60000.0</td>\n      <td>30004</td>\n      <td>5</td>\n    </tr>\n    <tr>\n      <th>4</th>\n      <td>E1005</td>\n      <td>Ahmed</td>\n      <td>Hussain</td>\n      <td>123410</td>\n      <td>1981-01-04</td>\n      <td>M</td>\n      <td>216 Oak Tree, Geneva,IL</td>\n      <td>500</td>\n      <td>70000.0</td>\n      <td>30001</td>\n      <td>2</td>\n    </tr>\n    <tr>\n      <th>5</th>\n      <td>E1006</td>\n      <td>Nancy</td>\n      <td>Allen</td>\n      <td>123411</td>\n      <td>1978-02-06</td>\n      <td>F</td>\n      <td>111 Green Pl, Elgin,IL</td>\n      <td>600</td>\n      <td>90000.0</td>\n      <td>30001</td>\n      <td>2</td>\n    </tr>\n    <tr>\n      <th>6</th>\n      <td>E1007</td>\n      <td>Mary</td>\n      <td>Thomas</td>\n      <td>123412</td>\n      <td>1975-05-05</td>\n      <td>F</td>\n      <td>100 Rose Pl, Gary,IL</td>\n      <td>650</td>\n      <td>65000.0</td>\n      <td>30003</td>\n      <td>7</td>\n    </tr>\n    <tr>\n      <th>7</th>\n      <td>E1008</td>\n      <td>Bharath</td>\n      <td>Gupta</td>\n      <td>123413</td>\n      <td>1985-05-06</td>\n      <td>M</td>\n      <td>145 Berry Ln, Naperville,IL</td>\n      <td>660</td>\n      <td>65000.0</td>\n      <td>30003</td>\n      <td>7</td>\n    </tr>\n    <tr>\n      <th>8</th>\n      <td>E1009</td>\n      <td>Andrea</td>\n      <td>Jones</td>\n      <td>123414</td>\n      <td>1990-07-09</td>\n      <td>F</td>\n      <td>120 Fall Creek, Gary,IL</td>\n      <td>234</td>\n      <td>70000.0</td>\n      <td>30003</td>\n      <td>7</td>\n    </tr>\n    <tr>\n      <th>9</th>\n      <td>E1010</td>\n      <td>Ann</td>\n      <td>Jacob</td>\n      <td>123415</td>\n      <td>1982-03-30</td>\n      <td>F</td>\n      <td>111 Britany Springs,Elgin,IL</td>\n      <td>220</td>\n      <td>70000.0</td>\n      <td>30004</td>\n      <td>5</td>\n    </tr>\n  </tbody>\n</table>\n</div>"
                    },
                    "metadata": {}
                }
            ]
        },
        {
            "metadata": {},
            "cell_type": "code",
            "source": "df.describe(include='all')",
            "execution_count": 16,
            "outputs": [
                {
                    "output_type": "execute_result",
                    "execution_count": 16,
                    "data": {
                        "text/plain": "           EMP_ID F_NAME  L_NAME        SSN      B_DATE  SEX  \\\ncount          10     10      10         10          10   10   \nunique         10     10       9         10          10    2   \ntop     E1002      Ahmed  Thomas  123411     1981-01-04    M   \nfreq            1      1       2          1           1    5   \nmean          NaN    NaN     NaN        NaN         NaN  NaN   \nstd           NaN    NaN     NaN        NaN         NaN  NaN   \nmin           NaN    NaN     NaN        NaN         NaN  NaN   \n25%           NaN    NaN     NaN        NaN         NaN  NaN   \n50%           NaN    NaN     NaN        NaN         NaN  NaN   \n75%           NaN    NaN     NaN        NaN         NaN  NaN   \nmax           NaN    NaN     NaN        NaN         NaN  NaN   \n\n                      ADDRESS     JOB_ID         SALARY MANAGER_ID     DEP_ID  \ncount                      10         10      10.000000         10         10  \nunique                     10         10            NaN          4          3  \ntop     5631 Rice, OakPark,IL  400                  NaN  30001      5          \nfreq                        1          1            NaN          3          4  \nmean                      NaN        NaN   72000.000000        NaN        NaN  \nstd                       NaN        NaN   14567.848922        NaN        NaN  \nmin                       NaN        NaN   50000.000000        NaN        NaN  \n25%                       NaN        NaN   65000.000000        NaN        NaN  \n50%                       NaN        NaN   70000.000000        NaN        NaN  \n75%                       NaN        NaN   77500.000000        NaN        NaN  \nmax                       NaN        NaN  100000.000000        NaN        NaN  ",
                        "text/html": "<div>\n<style scoped>\n    .dataframe tbody tr th:only-of-type {\n        vertical-align: middle;\n    }\n\n    .dataframe tbody tr th {\n        vertical-align: top;\n    }\n\n    .dataframe thead th {\n        text-align: right;\n    }\n</style>\n<table border=\"1\" class=\"dataframe\">\n  <thead>\n    <tr style=\"text-align: right;\">\n      <th></th>\n      <th>EMP_ID</th>\n      <th>F_NAME</th>\n      <th>L_NAME</th>\n      <th>SSN</th>\n      <th>B_DATE</th>\n      <th>SEX</th>\n      <th>ADDRESS</th>\n      <th>JOB_ID</th>\n      <th>SALARY</th>\n      <th>MANAGER_ID</th>\n      <th>DEP_ID</th>\n    </tr>\n  </thead>\n  <tbody>\n    <tr>\n      <th>count</th>\n      <td>10</td>\n      <td>10</td>\n      <td>10</td>\n      <td>10</td>\n      <td>10</td>\n      <td>10</td>\n      <td>10</td>\n      <td>10</td>\n      <td>10.000000</td>\n      <td>10</td>\n      <td>10</td>\n    </tr>\n    <tr>\n      <th>unique</th>\n      <td>10</td>\n      <td>10</td>\n      <td>9</td>\n      <td>10</td>\n      <td>10</td>\n      <td>2</td>\n      <td>10</td>\n      <td>10</td>\n      <td>NaN</td>\n      <td>4</td>\n      <td>3</td>\n    </tr>\n    <tr>\n      <th>top</th>\n      <td>E1002</td>\n      <td>Ahmed</td>\n      <td>Thomas</td>\n      <td>123411</td>\n      <td>1981-01-04</td>\n      <td>M</td>\n      <td>5631 Rice, OakPark,IL</td>\n      <td>400</td>\n      <td>NaN</td>\n      <td>30001</td>\n      <td>5</td>\n    </tr>\n    <tr>\n      <th>freq</th>\n      <td>1</td>\n      <td>1</td>\n      <td>2</td>\n      <td>1</td>\n      <td>1</td>\n      <td>5</td>\n      <td>1</td>\n      <td>1</td>\n      <td>NaN</td>\n      <td>3</td>\n      <td>4</td>\n    </tr>\n    <tr>\n      <th>mean</th>\n      <td>NaN</td>\n      <td>NaN</td>\n      <td>NaN</td>\n      <td>NaN</td>\n      <td>NaN</td>\n      <td>NaN</td>\n      <td>NaN</td>\n      <td>NaN</td>\n      <td>72000.000000</td>\n      <td>NaN</td>\n      <td>NaN</td>\n    </tr>\n    <tr>\n      <th>std</th>\n      <td>NaN</td>\n      <td>NaN</td>\n      <td>NaN</td>\n      <td>NaN</td>\n      <td>NaN</td>\n      <td>NaN</td>\n      <td>NaN</td>\n      <td>NaN</td>\n      <td>14567.848922</td>\n      <td>NaN</td>\n      <td>NaN</td>\n    </tr>\n    <tr>\n      <th>min</th>\n      <td>NaN</td>\n      <td>NaN</td>\n      <td>NaN</td>\n      <td>NaN</td>\n      <td>NaN</td>\n      <td>NaN</td>\n      <td>NaN</td>\n      <td>NaN</td>\n      <td>50000.000000</td>\n      <td>NaN</td>\n      <td>NaN</td>\n    </tr>\n    <tr>\n      <th>25%</th>\n      <td>NaN</td>\n      <td>NaN</td>\n      <td>NaN</td>\n      <td>NaN</td>\n      <td>NaN</td>\n      <td>NaN</td>\n      <td>NaN</td>\n      <td>NaN</td>\n      <td>65000.000000</td>\n      <td>NaN</td>\n      <td>NaN</td>\n    </tr>\n    <tr>\n      <th>50%</th>\n      <td>NaN</td>\n      <td>NaN</td>\n      <td>NaN</td>\n      <td>NaN</td>\n      <td>NaN</td>\n      <td>NaN</td>\n      <td>NaN</td>\n      <td>NaN</td>\n      <td>70000.000000</td>\n      <td>NaN</td>\n      <td>NaN</td>\n    </tr>\n    <tr>\n      <th>75%</th>\n      <td>NaN</td>\n      <td>NaN</td>\n      <td>NaN</td>\n      <td>NaN</td>\n      <td>NaN</td>\n      <td>NaN</td>\n      <td>NaN</td>\n      <td>NaN</td>\n      <td>77500.000000</td>\n      <td>NaN</td>\n      <td>NaN</td>\n    </tr>\n    <tr>\n      <th>max</th>\n      <td>NaN</td>\n      <td>NaN</td>\n      <td>NaN</td>\n      <td>NaN</td>\n      <td>NaN</td>\n      <td>NaN</td>\n      <td>NaN</td>\n      <td>NaN</td>\n      <td>100000.000000</td>\n      <td>NaN</td>\n      <td>NaN</td>\n    </tr>\n  </tbody>\n</table>\n</div>"
                    },
                    "metadata": {}
                }
            ]
        },
        {
            "metadata": {},
            "cell_type": "code",
            "source": "import matplotlib.pyplot as plt\nimport seaborn as sns\nplot=sns.relplot(x='DEP_ID',y='SALARY',kind='line', data=df)\n#plt.setp(plot.get_xticklabels(),rotation=90)\nplt.title(\"sampleplot\")\nplt.show()",
            "execution_count": 28,
            "outputs": [
                {
                    "output_type": "display_data",
                    "data": {
                        "text/plain": "<Figure size 360x360 with 1 Axes>",
                        "image/png": "[encoded data removed]"
                    },
                    "metadata": {
                        "needs_background": "light"
                    }
                }
            ]
        },
        {
            "metadata": {},
            "cell_type": "code",
            "source": "df['SALARY'].describe()",
            "execution_count": 29,
            "outputs": [
                {
                    "output_type": "execute_result",
                    "execution_count": 29,
                    "data": {
                        "text/plain": "count        10.000000\nmean      72000.000000\nstd       14567.848922\nmin       50000.000000\n25%       65000.000000\n50%       70000.000000\n75%       77500.000000\nmax      100000.000000\nName: SALARY, dtype: float64"
                    },
                    "metadata": {}
                }
            ]
        },
        {
            "metadata": {},
            "cell_type": "code",
            "source": "df['SALARY'].idxmax()",
            "execution_count": 35,
            "outputs": [
                {
                    "output_type": "execute_result",
                    "execution_count": 35,
                    "data": {
                        "text/plain": "0"
                    },
                    "metadata": {}
                }
            ]
        },
        {
            "metadata": {},
            "cell_type": "code",
            "source": "df.at[7,'EMP_ID']",
            "execution_count": 33,
            "outputs": [
                {
                    "output_type": "execute_result",
                    "execution_count": 33,
                    "data": {
                        "text/plain": "'E1008    '"
                    },
                    "metadata": {}
                }
            ]
        },
        {
            "metadata": {},
            "cell_type": "code",
            "source": "",
            "execution_count": null,
            "outputs": []
        }
    ],
    "metadata": {
        "kernelspec": {
            "name": "python3",
            "display_name": "Python 3.6",
            "language": "python"
        },
        "language_info": {
            "name": "python",
            "version": "3.6.9",
            "mimetype": "text/x-python",
            "codemirror_mode": {
                "name": "ipython",
                "version": 3
            },
            "pygments_lexer": "ipython3",
            "nbconvert_exporter": "python",
            "file_extension": ".py"
        }
    },
    "nbformat": 4,
    "nbformat_minor": 1
}